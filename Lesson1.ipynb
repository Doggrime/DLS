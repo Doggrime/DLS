{
 "cells": [
  {
   "cell_type": "markdown",
   "id": "f4cbad8e",
   "metadata": {},
   "source": [
    "# ДЗ №1"
   ]
  },
  {
   "cell_type": "markdown",
   "id": "1aab8182",
   "metadata": {},
   "source": [
    "## 1 – Почти двойной факториал "
   ]
  },
  {
   "cell_type": "code",
   "execution_count": 1,
   "id": "f3da7cd8",
   "metadata": {},
   "outputs": [
    {
     "data": {
      "text/plain": [
       "10395"
      ]
     },
     "execution_count": 1,
     "metadata": {},
     "output_type": "execute_result"
    }
   ],
   "source": [
    "N = 12\n",
    "\n",
    "def almost_double_factorial(n):\n",
    "    res = 1\n",
    "    for i in range(1, (n + 1), 2):\n",
    "        res *= i\n",
    "    return res\n",
    "            \n",
    "almost_double_factorial(N)"
   ]
  },
  {
   "cell_type": "markdown",
   "id": "e804e2b7",
   "metadata": {},
   "source": [
    "## 2 – Хитрая сортировка"
   ]
  },
  {
   "cell_type": "code",
   "execution_count": 2,
   "id": "deaeabb4",
   "metadata": {},
   "outputs": [
    {
     "data": {
      "text/plain": [
       "[('string', 'a'), ('one', 'two'), ('three', 'four'), ('five', 'six')]"
      ]
     },
     "execution_count": 2,
     "metadata": {},
     "output_type": "execute_result"
    }
   ],
   "source": [
    "items = [('one', 'two'), ('three', 'four'), ('five', 'six'), ('string', 'a')]\n",
    "\n",
    "sorted_items = sorted(items, key = lambda x: x[1][-1])\n",
    "#sorted_items = sorted(items, key = item x: item[1][-1:]) - идем по элементам листа\n",
    "\n",
    "sorted_items"
   ]
  },
  {
   "cell_type": "markdown",
   "id": "64365bff",
   "metadata": {},
   "source": [
    "## 3 – Слайсы"
   ]
  },
  {
   "cell_type": "code",
   "execution_count": 3,
   "id": "04100fca",
   "metadata": {},
   "outputs": [
    {
     "data": {
      "text/plain": [
       "[-5, 2, -3, 4, -1]"
      ]
     },
     "execution_count": 3,
     "metadata": {},
     "output_type": "execute_result"
    }
   ],
   "source": [
    "x = [1, 2, 3, 4, 5]\n",
    "\n",
    "x[::-2] = [-1, -3, -5]\n",
    "\n",
    "x"
   ]
  },
  {
   "cell_type": "markdown",
   "id": "ccd1d23c",
   "metadata": {},
   "source": [
    "## 4 – Создание массивов"
   ]
  },
  {
   "cell_type": "code",
   "execution_count": 4,
   "id": "0a4e547c",
   "metadata": {},
   "outputs": [
    {
     "data": {
      "text/plain": [
       "[0, 14, 65, 286, 286, 1123409]"
      ]
     },
     "execution_count": 4,
     "metadata": {},
     "output_type": "execute_result"
    }
   ],
   "source": [
    "A = [0, 1, 13, 51, 221, 0, 1123123]\n",
    "\n",
    "def cumsum_and_erase(A, erase = 1):\n",
    "    B = A\n",
    "    sum = 0\n",
    "    for i in range(len(A)):\n",
    "        sum += A[i]\n",
    "        B[i] = sum\n",
    "        i += 1\n",
    "    #B = [0, 1, 14, 65, 286, 286, 1123409]\n",
    "    C = [B[i] for i in range(len(B)) if B[i] != erase]\n",
    "    return C\n",
    "\n",
    "cumsum_and_erase(A)"
   ]
  },
  {
   "cell_type": "markdown",
   "id": "2cbf91b3",
   "metadata": {},
   "source": [
    "## 5 – Обработка текста\n",
    "\n"
   ]
  },
  {
   "cell_type": "code",
   "execution_count": 5,
   "id": "edb36aa9",
   "metadata": {},
   "outputs": [
    {
     "data": {
      "text/plain": [
       "['thousand devils', 'My name is', 'Room costs', '']"
      ]
     },
     "execution_count": 5,
     "metadata": {},
     "output_type": "execute_result"
    }
   ],
   "source": [
    "sentences = ['1 thousand devils', 'My name is 9Pasha', 'Room #125 costs $100', '888']\n",
    "\n",
    "def process(sentences):\n",
    "    result = []\n",
    "    for i in range(len(sentences)):\n",
    "        buf = sentences[i].split()\n",
    "        buf = [x for x in buf if x.isalpha() is True] \n",
    "        buf = ' '.join(buf)\n",
    "        result.append(buf)\n",
    "    return result\n",
    "\n",
    "process(sentences)"
   ]
  },
  {
   "cell_type": "markdown",
   "id": "ba8710a9",
   "metadata": {},
   "source": [
    "## 6 – Собственный класс \"Нейрон\""
   ]
  },
  {
   "cell_type": "code",
   "execution_count": 6,
   "id": "0d29f4f7",
   "metadata": {},
   "outputs": [
    {
     "name": "stdout",
     "output_type": "stream",
     "text": [
      "12\n",
      "[2, 2, 2]\n"
     ]
    }
   ],
   "source": [
    "class Neuron:\n",
    "    def __init__(self, w, f = lambda x: x):\n",
    "        self.w = w\n",
    "        self.f = f\n",
    "        \n",
    "    def forward(self, a):\n",
    "        self.x = a\n",
    "        arg = 0\n",
    "        for i in range(len(a)):\n",
    "            arg += self.w[i] * a[i]\n",
    "        return self.f(arg)\n",
    "    \n",
    "    def backlog(self):\n",
    "        return self.x\n",
    "    \n",
    "n1 = Neuron([1, 2, 3])\n",
    "print(n1.forward([2, 2, 2]))\n",
    "print(n1.backlog())"
   ]
  }
 ],
 "metadata": {
  "kernelspec": {
   "display_name": "Python 3 (ipykernel)",
   "language": "python",
   "name": "python3"
  },
  "language_info": {
   "codemirror_mode": {
    "name": "ipython",
    "version": 3
   },
   "file_extension": ".py",
   "mimetype": "text/x-python",
   "name": "python",
   "nbconvert_exporter": "python",
   "pygments_lexer": "ipython3",
   "version": "3.9.7"
  }
 },
 "nbformat": 4,
 "nbformat_minor": 5
}
