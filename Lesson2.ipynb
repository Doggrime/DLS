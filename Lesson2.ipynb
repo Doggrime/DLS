{
 "cells": [
  {
   "cell_type": "markdown",
   "id": "2a72c7f7",
   "metadata": {},
   "source": [
    "# ДЗ №2"
   ]
  },
  {
   "cell_type": "markdown",
   "id": "7e715ed7",
   "metadata": {},
   "source": [
    "## 1 – Перемножение матриц"
   ]
  },
  {
   "cell_type": "code",
   "execution_count": 1,
   "id": "7c963510",
   "metadata": {},
   "outputs": [],
   "source": [
    "import numpy as np"
   ]
  },
  {
   "cell_type": "code",
   "execution_count": 2,
   "id": "481b6756",
   "metadata": {},
   "outputs": [
    {
     "data": {
      "text/plain": [
       "[[10, 9, 8], [10, 11, 12], [5, 5, 5]]"
      ]
     },
     "execution_count": 2,
     "metadata": {},
     "output_type": "execute_result"
    }
   ],
   "source": [
    "def no_numpy_mult(first, second):\n",
    "    \n",
    "    length = len(first) \n",
    "    result = [[0 for i in range(length)] for i in range(length)]\n",
    "        \n",
    "    for i in range(length):\n",
    "        for j in range(length):\n",
    "            for k in range(length):\n",
    "                result[i][j] += first[i][k] * second[k][j]\n",
    "\n",
    "    return result\n",
    "\n",
    "no_numpy_mult([[1,2,3],[3,2,1],[1,1,1]],[[1,2,3],[3,2,1],[1,1,1]])"
   ]
  },
  {
   "cell_type": "code",
   "execution_count": 3,
   "id": "aa362205",
   "metadata": {},
   "outputs": [
    {
     "data": {
      "text/plain": [
       "array([[10,  9,  8],\n",
       "       [10, 11, 12],\n",
       "       [ 5,  5,  5]])"
      ]
     },
     "execution_count": 3,
     "metadata": {},
     "output_type": "execute_result"
    }
   ],
   "source": [
    "def numpy_mult(first, second):\n",
    "\n",
    "    result = first @ second\n",
    "    \n",
    "    return result\n",
    "\n",
    "numpy_mult(np.array([[1,2,3],[3,2,1],[1,1,1]]),np.array([[1,2,3],[3,2,1],[1,1,1]]))"
   ]
  },
  {
   "cell_type": "markdown",
   "id": "f4d58d77",
   "metadata": {},
   "source": [
    "## 2 – Скалярное произведение"
   ]
  },
  {
   "cell_type": "code",
   "execution_count": 4,
   "id": "ef31532b",
   "metadata": {},
   "outputs": [],
   "source": [
    "import numpy as np"
   ]
  },
  {
   "cell_type": "code",
   "execution_count": 5,
   "id": "c4f97da0",
   "metadata": {},
   "outputs": [
    {
     "data": {
      "text/plain": [
       "14"
      ]
     },
     "execution_count": 5,
     "metadata": {},
     "output_type": "execute_result"
    }
   ],
   "source": [
    "def no_numpy_scalar(v1, v2):\n",
    "    \n",
    "    result = sum(v1[i] * v2[i] for i in range(3))\n",
    "    \n",
    "    return result\n",
    "\n",
    "no_numpy_scalar([1,2,3],[1,2,3])"
   ]
  },
  {
   "cell_type": "code",
   "execution_count": 6,
   "id": "2aae4f16",
   "metadata": {},
   "outputs": [
    {
     "data": {
      "text/plain": [
       "14"
      ]
     },
     "execution_count": 6,
     "metadata": {},
     "output_type": "execute_result"
    }
   ],
   "source": [
    "def numpy_scalar (v1, v2):\n",
    "\n",
    "    result = v1 @ v2\n",
    "    \n",
    "    return result\n",
    "\n",
    "numpy_scalar(np.array([1,2,3]),np.array([1,2,3]))"
   ]
  },
  {
   "cell_type": "markdown",
   "id": "4fe50633",
   "metadata": {},
   "source": [
    "## 3 – Сумма четных элементов на главной диагонали "
   ]
  },
  {
   "cell_type": "code",
   "execution_count": 7,
   "id": "22702274",
   "metadata": {},
   "outputs": [],
   "source": [
    "import numpy as np"
   ]
  },
  {
   "cell_type": "code",
   "execution_count": 8,
   "id": "fac1aa81",
   "metadata": {},
   "outputs": [
    {
     "data": {
      "text/plain": [
       "10"
      ]
     },
     "execution_count": 8,
     "metadata": {},
     "output_type": "execute_result"
    }
   ],
   "source": [
    "def diag_2k(a):\n",
    "    \n",
    "    diag = np.diagonal(a)\n",
    "    result = (np.sum(diag[diag % 2 == 0]))\n",
    "    \n",
    "    return result\n",
    "\n",
    "diag_2k(np.array([[1,2,2],[4,10,1],[1,10,1]]))"
   ]
  },
  {
   "cell_type": "markdown",
   "id": "62bf1e69",
   "metadata": {},
   "source": [
    "## 4 –  Массив из построенных строчек"
   ]
  },
  {
   "cell_type": "code",
   "execution_count": 9,
   "id": "ccf9528e",
   "metadata": {},
   "outputs": [],
   "source": [
    "import numpy as np"
   ]
  },
  {
   "cell_type": "code",
   "execution_count": 10,
   "id": "eb48a7b4",
   "metadata": {},
   "outputs": [
    {
     "data": {
      "text/plain": [
       "array([[ 1,  3,  5, 37, 39],\n",
       "       [ 4, 14, 15, 16, 17],\n",
       "       [ 1, 11, 12, 16, 21],\n",
       "       [ 1, 11, 12, 16, 21]])"
      ]
     },
     "execution_count": 10,
     "metadata": {},
     "output_type": "execute_result"
    }
   ],
   "source": [
    "def cumsum(A):\n",
    "        \n",
    "    result = np.array([np.hstack((A[i].cumsum())) for i in range(len(A))])\n",
    "    result.shape = (len(A), len(A[0]))\n",
    "    \n",
    "    return result\n",
    "\n",
    "cumsum(np.array([[1,2,2,32,2],[4,10,1,1,1],[1,10,1,4,5],[1,10,1,4,5]]))"
   ]
  },
  {
   "cell_type": "markdown",
   "id": "fd182785",
   "metadata": {},
   "source": [
    "## 5 – Склеивание"
   ]
  },
  {
   "cell_type": "code",
   "execution_count": 11,
   "id": "061366d6",
   "metadata": {},
   "outputs": [],
   "source": [
    "import numpy as np"
   ]
  },
  {
   "cell_type": "code",
   "execution_count": 12,
   "id": "d083b949",
   "metadata": {},
   "outputs": [
    {
     "data": {
      "text/plain": [
       "array([[      1,       2,       3,       4,       5,     125,       1,\n",
       "             27,       1,       1],\n",
       "       [      4,      10,       1,       1,       1,       1,       1,\n",
       "              1,       1,      64],\n",
       "       [      1,      10,       1,       4,     100, 1000000,       1,\n",
       "              1,       1,       1]])"
      ]
     },
     "execution_count": 12,
     "metadata": {},
     "output_type": "execute_result"
    }
   ],
   "source": [
    "def transform(X, a=1):\n",
    "    \n",
    "    result = np.copy(X) # важно!\n",
    "    \n",
    "    result[:,1::2] = a\n",
    "    result[:,0::2] **= 3\n",
    "                \n",
    "    result = np.flip(result, 1)\n",
    "    result = np.concatenate([X, result], axis = 1)\n",
    "            \n",
    "    return result\n",
    "\n",
    "transform(np.array([[1,2,3,4,5],[4,10,1,1,1],[1,10,1,4,100]]))"
   ]
  },
  {
   "cell_type": "markdown",
   "id": "284ec093",
   "metadata": {},
   "source": [
    "## 6 – Run-length encoding"
   ]
  },
  {
   "cell_type": "code",
   "execution_count": 13,
   "id": "9c2c85fc",
   "metadata": {},
   "outputs": [],
   "source": [
    "import numpy as np"
   ]
  },
  {
   "cell_type": "code",
   "execution_count": 14,
   "id": "6bcdb833",
   "metadata": {},
   "outputs": [],
   "source": [
    "def encode(a):\n",
    "    \n",
    "    is_new_in_row = np.array(a[1:] != a[:-1])\n",
    "    position = np.append(np.where(is_new_in_row), len(a) - 1)\n",
    "    lengths = np.diff(np.append(-1, position))\n",
    "    \n",
    "    return (a[position], lengths)\n",
    "\n",
    "encode(np.array([1, 2, 2, 3, 3, 1, 1, 5, 5, 2, 3, 3]))"
   ]
  }
 ],
 "metadata": {
  "kernelspec": {
   "display_name": "Python 3 (ipykernel)",
   "language": "python",
   "name": "python3"
  },
  "language_info": {
   "codemirror_mode": {
    "name": "ipython",
    "version": 3
   },
   "file_extension": ".py",
   "mimetype": "text/x-python",
   "name": "python",
   "nbconvert_exporter": "python",
   "pygments_lexer": "ipython3",
   "version": "3.9.7"
  }
 },
 "nbformat": 4,
 "nbformat_minor": 5
}
